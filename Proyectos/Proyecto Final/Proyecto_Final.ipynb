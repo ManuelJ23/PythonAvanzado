{
  "cells": [
    {
      "cell_type": "markdown",
      "metadata": {
        "id": "DxgNN3xZZpVe"
      },
      "source": [
        "#Prediccion de Precios de Casas: Regresion Lineal\n",
        "\n",
        "\n",
        "* El objetivo de este ejercicio es el de obtener una predicción de los precios de las casas, conocidas unas características de las mismas y su precio.\n",
        "\n",
        "\n",
        "* Sobre el Dataset se tienen las siguientes características:\n",
        "    1. pies_cuadrados_casa\n",
        "    2. num_baños\n",
        "    3. num_habitaciones\n",
        "    4. num_cocinas\n",
        "    5. num_coches_garaje\n",
        "    6. pies_cuadrados_garaje\n",
        "    7. precio_dolares\n",
        "\n",
        "\n",
        "* En este ejercicio ***se realizará una regresión lineal simple***, tomando como ***variable independiente los pies cuadrados*** de la casa y como ***variable dependiente el precio***.\n",
        "\n",
        "\n",
        "* Para realizar este ejercicio se pide:\n",
        "<span></span><br>\n",
        "    1. Carga de datos (Resuelto)\n",
        "<span></span><br>\n",
        "    2. ***Cambio de estructura de datos a numpy*** para el uso de Scikit-Learn\n",
        "<span></span><br>\n",
        "    3. ***Visualizar con una gráfica de dispersión la relación entre precio y pies cuadrados de las casas***\n",
        "<span></span><br>\n",
        "    4. ***Creacción del modelo y ajuste del mismo***\n",
        "<span></span><br>\n",
        "    5. ***Obtención del modelo*** (Resta de Regresión)\n",
        "<span></span><br>\n",
        "    6. ***Visualización del modelo*** en el que se muestre una gráfica de dispersión con la elación entre precio y pies cuadrados de las casas y por otro lado (y en la misma gráfica) la recta de regresión.\n",
        "<span></span><br>\n",
        "    7. ***Medición de la calidad de los resultados***: Obtención del Coeficiente de Determinación R<sup>2</sup>\n",
        "\n",
        "<hr>\n",
        "\n",
        "\n",
        "* En primer lugar vamos a importar las librería necesarias:"
      ]
    },
    {
      "cell_type": "code",
      "execution_count": null,
      "metadata": {
        "id": "ZVE-p4ANZpVh"
      },
      "outputs": [],
      "source": [
        "import numpy as np\n",
        "import pandas as pd\n",
        "import matplotlib.pyplot as plt\n",
        "from sklearn import linear_model\n",
        "%matplotlib inline"
      ]
    },
    {
      "cell_type": "markdown",
      "metadata": {
        "id": "uM6Wx2_4ZpVi"
      },
      "source": [
        "<hr>\n",
        "\n",
        "\n",
        "### 1. Carga de Datos"
      ]
    },
    {
      "cell_type": "code",
      "execution_count": null,
      "metadata": {
        "id": "BQmunmmaZpVi",
        "outputId": "194098e8-551b-4a07-e65a-5ad40620212b"
      },
      "outputs": [
        {
          "data": {
            "text/html": [
              "<div>\n",
              "<style scoped>\n",
              "    .dataframe tbody tr th:only-of-type {\n",
              "        vertical-align: middle;\n",
              "    }\n",
              "\n",
              "    .dataframe tbody tr th {\n",
              "        vertical-align: top;\n",
              "    }\n",
              "\n",
              "    .dataframe thead th {\n",
              "        text-align: right;\n",
              "    }\n",
              "</style>\n",
              "<table border=\"1\" class=\"dataframe\">\n",
              "  <thead>\n",
              "    <tr style=\"text-align: right;\">\n",
              "      <th></th>\n",
              "      <th>pies_cuadrados_casa</th>\n",
              "      <th>num_banios</th>\n",
              "      <th>num_habitaciones</th>\n",
              "      <th>num_cocinas</th>\n",
              "      <th>num_coches_garaje</th>\n",
              "      <th>pies_cuadrados_garaje</th>\n",
              "      <th>precio_dolares</th>\n",
              "    </tr>\n",
              "  </thead>\n",
              "  <tbody>\n",
              "    <tr>\n",
              "      <th>0</th>\n",
              "      <td>1710</td>\n",
              "      <td>2</td>\n",
              "      <td>3</td>\n",
              "      <td>1</td>\n",
              "      <td>2</td>\n",
              "      <td>548</td>\n",
              "      <td>208500</td>\n",
              "    </tr>\n",
              "    <tr>\n",
              "      <th>1</th>\n",
              "      <td>1262</td>\n",
              "      <td>2</td>\n",
              "      <td>3</td>\n",
              "      <td>1</td>\n",
              "      <td>2</td>\n",
              "      <td>460</td>\n",
              "      <td>181500</td>\n",
              "    </tr>\n",
              "    <tr>\n",
              "      <th>2</th>\n",
              "      <td>1786</td>\n",
              "      <td>2</td>\n",
              "      <td>3</td>\n",
              "      <td>1</td>\n",
              "      <td>2</td>\n",
              "      <td>608</td>\n",
              "      <td>223500</td>\n",
              "    </tr>\n",
              "    <tr>\n",
              "      <th>3</th>\n",
              "      <td>1717</td>\n",
              "      <td>1</td>\n",
              "      <td>3</td>\n",
              "      <td>1</td>\n",
              "      <td>3</td>\n",
              "      <td>642</td>\n",
              "      <td>140000</td>\n",
              "    </tr>\n",
              "    <tr>\n",
              "      <th>4</th>\n",
              "      <td>2198</td>\n",
              "      <td>2</td>\n",
              "      <td>4</td>\n",
              "      <td>1</td>\n",
              "      <td>3</td>\n",
              "      <td>836</td>\n",
              "      <td>250000</td>\n",
              "    </tr>\n",
              "  </tbody>\n",
              "</table>\n",
              "</div>"
            ],
            "text/plain": [
              "   pies_cuadrados_casa  num_banios  num_habitaciones  num_cocinas  \\\n",
              "0                 1710           2                 3            1   \n",
              "1                 1262           2                 3            1   \n",
              "2                 1786           2                 3            1   \n",
              "3                 1717           1                 3            1   \n",
              "4                 2198           2                 4            1   \n",
              "\n",
              "   num_coches_garaje  pies_cuadrados_garaje  precio_dolares  \n",
              "0                  2                    548          208500  \n",
              "1                  2                    460          181500  \n",
              "2                  2                    608          223500  \n",
              "3                  3                    642          140000  \n",
              "4                  3                    836          250000  "
            ]
          },
          "execution_count": 2,
          "metadata": {},
          "output_type": "execute_result"
        }
      ],
      "source": [
        "df = pd.read_csv('./data/precio_casas.csv', header=0, sep=';')\n",
        "df.head()"
      ]
    },
    {
      "cell_type": "markdown",
      "metadata": {
        "id": "p2a-zHCLZpVi"
      },
      "source": [
        "<hr>\n",
        "\n",
        "\n",
        "### 2. Cambio de estructura de datos a numpy\n"
      ]
    },
    {
      "cell_type": "code",
      "execution_count": null,
      "metadata": {
        "id": "A2c2xcLUZpVj"
      },
      "outputs": [],
      "source": [
        "# TO DO"
      ]
    },
    {
      "cell_type": "markdown",
      "metadata": {
        "id": "Ga4GmdhZZpVj"
      },
      "source": [
        "<hr>\n",
        "\n",
        "\n",
        "### 3. Visualizar con una gráfica de dispersión la relación entre precio y pies cuadrados de las casas\n"
      ]
    },
    {
      "cell_type": "code",
      "execution_count": null,
      "metadata": {
        "id": "iL-KII18ZpVj"
      },
      "outputs": [],
      "source": [
        "# TO DO"
      ]
    },
    {
      "cell_type": "markdown",
      "metadata": {
        "id": "yR3wZGYFZpVj"
      },
      "source": [
        "<hr>\n",
        "\n",
        "\n",
        "### 4. Creacción del modelo y ajuste del mismo\n"
      ]
    },
    {
      "cell_type": "code",
      "execution_count": null,
      "metadata": {
        "id": "ruXa5JS0ZpVj"
      },
      "outputs": [],
      "source": [
        "# TO DO"
      ]
    },
    {
      "cell_type": "markdown",
      "metadata": {
        "id": "B7URAljvZpVj"
      },
      "source": [
        "<hr>\n",
        "\n",
        "\n",
        "### 5. Obtención del modelo (Resta de Regresión)\n"
      ]
    },
    {
      "cell_type": "code",
      "execution_count": null,
      "metadata": {
        "id": "5S9-jxOMZpVj"
      },
      "outputs": [],
      "source": [
        "# TO DO"
      ]
    },
    {
      "cell_type": "markdown",
      "metadata": {
        "id": "v0gRR7prZpVj"
      },
      "source": [
        "<hr>\n",
        "\n",
        "\n",
        "### 6. Visualización del modelo en el que se muestre una gráfica de dispersión con la elación entre precio y pies cuadrados de las casas y por otro lado (y en la misma gráfica) la recta de regresión.\n"
      ]
    },
    {
      "cell_type": "code",
      "execution_count": null,
      "metadata": {
        "id": "Iy54Es3jZpVj"
      },
      "outputs": [],
      "source": [
        "# TO DO\n"
      ]
    },
    {
      "cell_type": "markdown",
      "metadata": {
        "id": "D8ECmzWVZpVk"
      },
      "source": [
        "<hr>\n",
        "\n",
        "\n",
        "### 7. Medición de la calidad de los resultados: Obtención del Coeficiente de Determinación R<sup>2</sup>"
      ]
    },
    {
      "cell_type": "code",
      "execution_count": null,
      "metadata": {
        "id": "ffVOsu_MZpVk"
      },
      "outputs": [],
      "source": [
        "# TO DO"
      ]
    }
  ],
  "metadata": {
    "kernelspec": {
      "display_name": "Python 3",
      "language": "python",
      "name": "python3"
    },
    "language_info": {
      "codemirror_mode": {
        "name": "ipython",
        "version": 3
      },
      "file_extension": ".py",
      "mimetype": "text/x-python",
      "name": "python",
      "nbconvert_exporter": "python",
      "pygments_lexer": "ipython3",
      "version": "3.6.10"
    },
    "colab": {
      "provenance": []
    }
  },
  "nbformat": 4,
  "nbformat_minor": 0
}